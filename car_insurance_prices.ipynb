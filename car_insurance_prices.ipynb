{
 "cells": [
  {
   "cell_type": "code",
   "execution_count": 1,
   "id": "c46bedce-5c5f-4e35-9788-ad2f4e5dbab0",
   "metadata": {},
   "outputs": [],
   "source": [
    "import pandas as pd\n",
    "import seaborn as sns\n",
    "import matplotlib.pyplot as plt\n",
    "from sklearn.ensemble import ExtraTreesClassifier\n",
    "import warnings\n",
    "warnings.filterwarnings('ignore')"
   ]
  },
  {
   "cell_type": "code",
   "execution_count": 2,
   "id": "94275f8d-5acf-4cda-a615-896b6479f09c",
   "metadata": {},
   "outputs": [],
   "source": [
    "%matplotlib inline\n",
    "plt.style.use('bmh')"
   ]
  },
  {
   "cell_type": "markdown",
   "id": "8ed5aacc-703d-4cb2-98ba-8b34bc11703b",
   "metadata": {},
   "source": [
    "# Exploratory Data Analysis"
   ]
  },
  {
   "cell_type": "markdown",
   "id": "f9de0386-5af2-44aa-800b-97e1352b502a",
   "metadata": {
    "tags": []
   },
   "source": [
    "### Importing and exploring dataset"
   ]
  },
  {
   "cell_type": "code",
   "execution_count": 3,
   "id": "79c21d1d-2aab-4210-b7da-77314f21863f",
   "metadata": {},
   "outputs": [
    {
     "data": {
      "text/html": [
       "<div>\n",
       "<style scoped>\n",
       "    .dataframe tbody tr th:only-of-type {\n",
       "        vertical-align: middle;\n",
       "    }\n",
       "\n",
       "    .dataframe tbody tr th {\n",
       "        vertical-align: top;\n",
       "    }\n",
       "\n",
       "    .dataframe thead th {\n",
       "        text-align: right;\n",
       "    }\n",
       "</style>\n",
       "<table border=\"1\" class=\"dataframe\">\n",
       "  <thead>\n",
       "    <tr style=\"text-align: right;\">\n",
       "      <th></th>\n",
       "      <th>Brand</th>\n",
       "      <th>Model</th>\n",
       "      <th>Version</th>\n",
       "      <th>Transmission</th>\n",
       "      <th>Year</th>\n",
       "      <th>Age</th>\n",
       "      <th>Sex</th>\n",
       "      <th>Policy</th>\n",
       "      <th>Insurance_company</th>\n",
       "      <th>Price</th>\n",
       "    </tr>\n",
       "  </thead>\n",
       "  <tbody>\n",
       "    <tr>\n",
       "      <th>0</th>\n",
       "      <td>Nissan</td>\n",
       "      <td>VERSA</td>\n",
       "      <td>ADVANCE</td>\n",
       "      <td>Aut</td>\n",
       "      <td>2012</td>\n",
       "      <td>18</td>\n",
       "      <td>H</td>\n",
       "      <td>Amplia</td>\n",
       "      <td>ANA</td>\n",
       "      <td>6,353.21</td>\n",
       "    </tr>\n",
       "    <tr>\n",
       "      <th>1</th>\n",
       "      <td>Nissan</td>\n",
       "      <td>VERSA</td>\n",
       "      <td>ADVANCE</td>\n",
       "      <td>Aut</td>\n",
       "      <td>2012</td>\n",
       "      <td>18</td>\n",
       "      <td>H</td>\n",
       "      <td>Amplia</td>\n",
       "      <td>Qualitas</td>\n",
       "      <td>6,764.61</td>\n",
       "    </tr>\n",
       "    <tr>\n",
       "      <th>2</th>\n",
       "      <td>Nissan</td>\n",
       "      <td>VERSA</td>\n",
       "      <td>ADVANCE</td>\n",
       "      <td>Aut</td>\n",
       "      <td>2012</td>\n",
       "      <td>18</td>\n",
       "      <td>H</td>\n",
       "      <td>Amplia</td>\n",
       "      <td>ABA</td>\n",
       "      <td>7,179.27</td>\n",
       "    </tr>\n",
       "    <tr>\n",
       "      <th>3</th>\n",
       "      <td>Nissan</td>\n",
       "      <td>VERSA</td>\n",
       "      <td>ADVANCE</td>\n",
       "      <td>Aut</td>\n",
       "      <td>2012</td>\n",
       "      <td>18</td>\n",
       "      <td>H</td>\n",
       "      <td>Amplia</td>\n",
       "      <td>Seguros Atlas</td>\n",
       "      <td>7,390.27</td>\n",
       "    </tr>\n",
       "    <tr>\n",
       "      <th>4</th>\n",
       "      <td>Nissan</td>\n",
       "      <td>VERSA</td>\n",
       "      <td>ADVANCE</td>\n",
       "      <td>Aut</td>\n",
       "      <td>2012</td>\n",
       "      <td>18</td>\n",
       "      <td>H</td>\n",
       "      <td>Amplia</td>\n",
       "      <td>AXA</td>\n",
       "      <td>7,513.00</td>\n",
       "    </tr>\n",
       "  </tbody>\n",
       "</table>\n",
       "</div>"
      ],
      "text/plain": [
       "    Brand  Model  Version Transmission  Year  Age Sex  Policy  \\\n",
       "0  Nissan  VERSA  ADVANCE          Aut  2012   18   H  Amplia   \n",
       "1  Nissan  VERSA  ADVANCE          Aut  2012   18   H  Amplia   \n",
       "2  Nissan  VERSA  ADVANCE          Aut  2012   18   H  Amplia   \n",
       "3  Nissan  VERSA  ADVANCE          Aut  2012   18   H  Amplia   \n",
       "4  Nissan  VERSA  ADVANCE          Aut  2012   18   H  Amplia   \n",
       "\n",
       "  Insurance_company     Price  \n",
       "0               ANA  6,353.21  \n",
       "1          Qualitas  6,764.61  \n",
       "2               ABA  7,179.27  \n",
       "3     Seguros Atlas  7,390.27  \n",
       "4               AXA  7,513.00  "
      ]
     },
     "execution_count": 3,
     "metadata": {},
     "output_type": "execute_result"
    }
   ],
   "source": [
    "df = pd.read_csv('insurance_prices.csv')\n",
    "df.head()"
   ]
  },
  {
   "cell_type": "code",
   "execution_count": 4,
   "id": "c0a65de7-3ed6-4f71-9cbe-11676ea1c9dc",
   "metadata": {},
   "outputs": [
    {
     "name": "stdout",
     "output_type": "stream",
     "text": [
      "<class 'pandas.core.frame.DataFrame'>\n",
      "RangeIndex: 35952 entries, 0 to 35951\n",
      "Data columns (total 10 columns):\n",
      " #   Column             Non-Null Count  Dtype \n",
      "---  ------             --------------  ----- \n",
      " 0   Brand              35952 non-null  object\n",
      " 1   Model              35952 non-null  object\n",
      " 2   Version            35952 non-null  object\n",
      " 3   Transmission       35952 non-null  object\n",
      " 4   Year               35952 non-null  int64 \n",
      " 5   Age                35952 non-null  int64 \n",
      " 6   Sex                35952 non-null  object\n",
      " 7   Policy             35952 non-null  object\n",
      " 8   Insurance_company  35952 non-null  object\n",
      " 9   Price              35952 non-null  object\n",
      "dtypes: int64(2), object(8)\n",
      "memory usage: 2.7+ MB\n"
     ]
    }
   ],
   "source": [
    "df.info()"
   ]
  },
  {
   "cell_type": "markdown",
   "id": "c05a18db-5957-4d8b-b776-f5c19a8d8f02",
   "metadata": {},
   "source": [
    "#### Converting price column to float"
   ]
  },
  {
   "cell_type": "code",
   "execution_count": 5,
   "id": "19c16290-d665-4385-a1b3-0e8dd0d15bf4",
   "metadata": {},
   "outputs": [],
   "source": [
    "df = df.replace(',','', regex=True)\n",
    "df['Price'] = pd.to_numeric(df['Price'],errors='coerce')"
   ]
  },
  {
   "cell_type": "markdown",
   "id": "40a44d8a-a76a-4793-aa43-5be1a8174d8a",
   "metadata": {},
   "source": [
    "#### Exploring price data distribution"
   ]
  },
  {
   "cell_type": "code",
   "execution_count": 6,
   "id": "0554581e-5776-4ba7-90e4-2d5387d31247",
   "metadata": {},
   "outputs": [
    {
     "name": "stdout",
     "output_type": "stream",
     "text": [
      "count    35952.000000\n",
      "mean      5655.003005\n",
      "std       1807.961833\n",
      "min       2171.220000\n",
      "25%       4433.340000\n",
      "50%       5431.410000\n",
      "75%       6669.930000\n",
      "max      21128.990000\n",
      "Name: Price, dtype: float64\n"
     ]
    },
    {
     "data": {
      "image/png": "[encoded data removed]",
      "text/plain": [
       "<Figure size 648x576 with 1 Axes>"
      ]
     },
     "metadata": {
      "needs_background": "light"
     },
     "output_type": "display_data"
    }
   ],
   "source": [
    "print(df['Price'].describe())\n",
    "plt.figure(figsize=(9, 8))\n",
    "sns.distplot(df['Price'], color='b', bins=100, hist_kws={'alpha': 0.4});"
   ]
  },
  {
   "cell_type": "code",
   "execution_count": 7,
   "id": "f3679a89-496b-4018-bf4d-22a9335ee51a",
   "metadata": {},
   "outputs": [
    {
     "data": {
      "text/html": [
       "<div>\n",
       "<style scoped>\n",
       "    .dataframe tbody tr th:only-of-type {\n",
       "        vertical-align: middle;\n",
       "    }\n",
       "\n",
       "    .dataframe tbody tr th {\n",
       "        vertical-align: top;\n",
       "    }\n",
       "\n",
       "    .dataframe thead th {\n",
       "        text-align: right;\n",
       "    }\n",
       "</style>\n",
       "<table border=\"1\" class=\"dataframe\">\n",
       "  <thead>\n",
       "    <tr style=\"text-align: right;\">\n",
       "      <th></th>\n",
       "      <th></th>\n",
       "      <th>Price</th>\n",
       "    </tr>\n",
       "    <tr>\n",
       "      <th>Age</th>\n",
       "      <th>Sex</th>\n",
       "      <th></th>\n",
       "    </tr>\n",
       "  </thead>\n",
       "  <tbody>\n",
       "    <tr>\n",
       "      <th rowspan=\"2\" valign=\"top\">18</th>\n",
       "      <th>H</th>\n",
       "      <td>6679.915199</td>\n",
       "    </tr>\n",
       "    <tr>\n",
       "      <th>M</th>\n",
       "      <td>6619.932037</td>\n",
       "    </tr>\n",
       "    <tr>\n",
       "      <th rowspan=\"2\" valign=\"top\">25</th>\n",
       "      <th>H</th>\n",
       "      <td>6173.863805</td>\n",
       "    </tr>\n",
       "    <tr>\n",
       "      <th>M</th>\n",
       "      <td>6117.004677</td>\n",
       "    </tr>\n",
       "    <tr>\n",
       "      <th rowspan=\"2\" valign=\"top\">30</th>\n",
       "      <th>H</th>\n",
       "      <td>5809.289015</td>\n",
       "    </tr>\n",
       "    <tr>\n",
       "      <th>M</th>\n",
       "      <td>5703.635903</td>\n",
       "    </tr>\n",
       "    <tr>\n",
       "      <th rowspan=\"2\" valign=\"top\">35</th>\n",
       "      <th>H</th>\n",
       "      <td>5516.225136</td>\n",
       "    </tr>\n",
       "    <tr>\n",
       "      <th>M</th>\n",
       "      <td>5459.898793</td>\n",
       "    </tr>\n",
       "    <tr>\n",
       "      <th rowspan=\"2\" valign=\"top\">40</th>\n",
       "      <th>H</th>\n",
       "      <td>5355.051379</td>\n",
       "    </tr>\n",
       "    <tr>\n",
       "      <th>M</th>\n",
       "      <td>5304.238298</td>\n",
       "    </tr>\n",
       "    <tr>\n",
       "      <th rowspan=\"2\" valign=\"top\">45</th>\n",
       "      <th>H</th>\n",
       "      <td>5177.261947</td>\n",
       "    </tr>\n",
       "    <tr>\n",
       "      <th>M</th>\n",
       "      <td>5116.633594</td>\n",
       "    </tr>\n",
       "    <tr>\n",
       "      <th rowspan=\"2\" valign=\"top\">50</th>\n",
       "      <th>H</th>\n",
       "      <td>5106.018466</td>\n",
       "    </tr>\n",
       "    <tr>\n",
       "      <th>M</th>\n",
       "      <td>5031.073820</td>\n",
       "    </tr>\n",
       "  </tbody>\n",
       "</table>\n",
       "</div>"
      ],
      "text/plain": [
       "               Price\n",
       "Age Sex             \n",
       "18  H    6679.915199\n",
       "    M    6619.932037\n",
       "25  H    6173.863805\n",
       "    M    6117.004677\n",
       "30  H    5809.289015\n",
       "    M    5703.635903\n",
       "35  H    5516.225136\n",
       "    M    5459.898793\n",
       "40  H    5355.051379\n",
       "    M    5304.238298\n",
       "45  H    5177.261947\n",
       "    M    5116.633594\n",
       "50  H    5106.018466\n",
       "    M    5031.073820"
      ]
     },
     "execution_count": 7,
     "metadata": {},
     "output_type": "execute_result"
    }
   ],
   "source": [
    "df_ages = df.groupby(['Age','Sex']).mean().drop(columns='Year')\n",
    "df_ages"
   ]
  },
  {
   "cell_type": "code",
   "execution_count": 8,
   "id": "1c678a68-3b03-4f26-9382-bd0445db7f09",
   "metadata": {},
   "outputs": [
    {
     "data": {
      "text/plain": [
       "<AxesSubplot:xlabel='Age,Sex'>"
      ]
     },
     "execution_count": 8,
     "metadata": {},
     "output_type": "execute_result"
    },
    {
     "data": {
      "image/png": "[encoded data removed]",
      "text/plain": [
       "<Figure size 720x576 with 1 Axes>"
      ]
     },
     "metadata": {
      "needs_background": "light"
     },
     "output_type": "display_data"
    }
   ],
   "source": [
    "df_ages.plot(kind='bar', figsize=(10,8))"
   ]
  },
  {
   "cell_type": "markdown",
   "id": "f126a666-9499-4a9a-957f-78f3dd791ac9",
   "metadata": {},
   "source": [
    "#### Exploring categorical values"
   ]
  },
  {
   "cell_type": "code",
   "execution_count": 9,
   "id": "5b45e9de-c208-4f2f-be13-ae055589984c",
   "metadata": {},
   "outputs": [
    {
     "data": {
      "image/png": "[encoded data removed]",
      "text/plain": [
       "<Figure size 720x288 with 1 Axes>"
      ]
     },
     "metadata": {
      "needs_background": "light"
     },
     "output_type": "display_data"
    },
    {
     "data": {
      "image/png": "[encoded data removed]",
      "text/plain": [
       "<Figure size 720x288 with 1 Axes>"
      ]
     },
     "metadata": {
      "needs_background": "light"
     },
     "output_type": "display_data"
    },
    {
     "data": {
      "image/png": "[encoded data removed]",
      "text/plain": [
       "<Figure size 720x288 with 1 Axes>"
      ]
     },
     "metadata": {
      "needs_background": "light"
     },
     "output_type": "display_data"
    },
    {
     "data": {
      "image/png": "[encoded data removed]",
      "text/plain": [
       "<Figure size 720x288 with 1 Axes>"
      ]
     },
     "metadata": {
      "needs_background": "light"
     },
     "output_type": "display_data"
    },
    {
     "data": {
      "image/png": "[encoded data removed]",
      "text/plain": [
       "<Figure size 720x288 with 1 Axes>"
      ]
     },
     "metadata": {
      "needs_background": "light"
     },
     "output_type": "display_data"
    },
    {
     "data": {
      "image/png": "[encoded data removed]",
      "text/plain": [
       "<Figure size 720x288 with 1 Axes>"
      ]
     },
     "metadata": {
      "needs_background": "light"
     },
     "output_type": "display_data"
    },
    {
     "data": {
      "image/png": "[encoded data removed]",
      "text/plain": [
       "<Figure size 720x288 with 1 Axes>"
      ]
     },
     "metadata": {
      "needs_background": "light"
     },
     "output_type": "display_data"
    }
   ],
   "source": [
    "categorcial_variables = ['Brand', 'Model', 'Version', 'Transmission', 'Sex', 'Policy', 'Insurance_company']\n",
    "for col in categorcial_variables:\n",
    "    plt.figure(figsize=(10,4))\n",
    "    sns.barplot(df[col].value_counts().values, df[col].value_counts().index)\n",
    "    plt.title(col)\n",
    "    plt.tight_layout()"
   ]
  },
  {
   "cell_type": "markdown",
   "id": "12fa2532-d75e-4197-8276-87289e65e1be",
   "metadata": {
    "tags": []
   },
   "source": [
    "### Getting dummy variables"
   ]
  },
  {
   "cell_type": "code",
   "execution_count": 10,
   "id": "0d2b40a4-2844-454b-ae2c-d3418de34f7a",
   "metadata": {},
   "outputs": [
    {
     "data": {
      "text/html": [
       "<div>\n",
       "<style scoped>\n",
       "    .dataframe tbody tr th:only-of-type {\n",
       "        vertical-align: middle;\n",
       "    }\n",
       "\n",
       "    .dataframe tbody tr th {\n",
       "        vertical-align: top;\n",
       "    }\n",
       "\n",
       "    .dataframe thead th {\n",
       "        text-align: right;\n",
       "    }\n",
       "</style>\n",
       "<table border=\"1\" class=\"dataframe\">\n",
       "  <thead>\n",
       "    <tr style=\"text-align: right;\">\n",
       "      <th></th>\n",
       "      <th>Price</th>\n",
       "      <th>Model_JETTA</th>\n",
       "      <th>Model_MARCH</th>\n",
       "      <th>Model_VENTO</th>\n",
       "      <th>Model_VERSA</th>\n",
       "      <th>Transmission_Std</th>\n",
       "      <th>Age_25</th>\n",
       "      <th>Age_30</th>\n",
       "      <th>Age_35</th>\n",
       "      <th>Age_40</th>\n",
       "      <th>...</th>\n",
       "      <th>Insurance_company_AIG</th>\n",
       "      <th>Insurance_company_ANA</th>\n",
       "      <th>Insurance_company_AXA</th>\n",
       "      <th>Insurance_company_GNP</th>\n",
       "      <th>Insurance_company_HDI</th>\n",
       "      <th>Insurance_company_Inbursa</th>\n",
       "      <th>Insurance_company_Mapfre</th>\n",
       "      <th>Insurance_company_Qualitas</th>\n",
       "      <th>Insurance_company_Seguros Atlas</th>\n",
       "      <th>Insurance_company_Zurich</th>\n",
       "    </tr>\n",
       "  </thead>\n",
       "  <tbody>\n",
       "    <tr>\n",
       "      <th>0</th>\n",
       "      <td>6353.21</td>\n",
       "      <td>0</td>\n",
       "      <td>0</td>\n",
       "      <td>0</td>\n",
       "      <td>1</td>\n",
       "      <td>0</td>\n",
       "      <td>0</td>\n",
       "      <td>0</td>\n",
       "      <td>0</td>\n",
       "      <td>0</td>\n",
       "      <td>...</td>\n",
       "      <td>0</td>\n",
       "      <td>1</td>\n",
       "      <td>0</td>\n",
       "      <td>0</td>\n",
       "      <td>0</td>\n",
       "      <td>0</td>\n",
       "      <td>0</td>\n",
       "      <td>0</td>\n",
       "      <td>0</td>\n",
       "      <td>0</td>\n",
       "    </tr>\n",
       "    <tr>\n",
       "      <th>1</th>\n",
       "      <td>6764.61</td>\n",
       "      <td>0</td>\n",
       "      <td>0</td>\n",
       "      <td>0</td>\n",
       "      <td>1</td>\n",
       "      <td>0</td>\n",
       "      <td>0</td>\n",
       "      <td>0</td>\n",
       "      <td>0</td>\n",
       "      <td>0</td>\n",
       "      <td>...</td>\n",
       "      <td>0</td>\n",
       "      <td>0</td>\n",
       "      <td>0</td>\n",
       "      <td>0</td>\n",
       "      <td>0</td>\n",
       "      <td>0</td>\n",
       "      <td>0</td>\n",
       "      <td>1</td>\n",
       "      <td>0</td>\n",
       "      <td>0</td>\n",
       "    </tr>\n",
       "    <tr>\n",
       "      <th>2</th>\n",
       "      <td>7179.27</td>\n",
       "      <td>0</td>\n",
       "      <td>0</td>\n",
       "      <td>0</td>\n",
       "      <td>1</td>\n",
       "      <td>0</td>\n",
       "      <td>0</td>\n",
       "      <td>0</td>\n",
       "      <td>0</td>\n",
       "      <td>0</td>\n",
       "      <td>...</td>\n",
       "      <td>0</td>\n",
       "      <td>0</td>\n",
       "      <td>0</td>\n",
       "      <td>0</td>\n",
       "      <td>0</td>\n",
       "      <td>0</td>\n",
       "      <td>0</td>\n",
       "      <td>0</td>\n",
       "      <td>0</td>\n",
       "      <td>0</td>\n",
       "    </tr>\n",
       "    <tr>\n",
       "      <th>3</th>\n",
       "      <td>7390.27</td>\n",
       "      <td>0</td>\n",
       "      <td>0</td>\n",
       "      <td>0</td>\n",
       "      <td>1</td>\n",
       "      <td>0</td>\n",
       "      <td>0</td>\n",
       "      <td>0</td>\n",
       "      <td>0</td>\n",
       "      <td>0</td>\n",
       "      <td>...</td>\n",
       "      <td>0</td>\n",
       "      <td>0</td>\n",
       "      <td>0</td>\n",
       "      <td>0</td>\n",
       "      <td>0</td>\n",
       "      <td>0</td>\n",
       "      <td>0</td>\n",
       "      <td>0</td>\n",
       "      <td>1</td>\n",
       "      <td>0</td>\n",
       "    </tr>\n",
       "    <tr>\n",
       "      <th>4</th>\n",
       "      <td>7513.00</td>\n",
       "      <td>0</td>\n",
       "      <td>0</td>\n",
       "      <td>0</td>\n",
       "      <td>1</td>\n",
       "      <td>0</td>\n",
       "      <td>0</td>\n",
       "      <td>0</td>\n",
       "      <td>0</td>\n",
       "      <td>0</td>\n",
       "      <td>...</td>\n",
       "      <td>0</td>\n",
       "      <td>0</td>\n",
       "      <td>1</td>\n",
       "      <td>0</td>\n",
       "      <td>0</td>\n",
       "      <td>0</td>\n",
       "      <td>0</td>\n",
       "      <td>0</td>\n",
       "      <td>0</td>\n",
       "      <td>0</td>\n",
       "    </tr>\n",
       "  </tbody>\n",
       "</table>\n",
       "<p>5 rows × 50 columns</p>\n",
       "</div>"
      ],
      "text/plain": [
       "     Price  Model_JETTA  Model_MARCH  Model_VENTO  Model_VERSA  \\\n",
       "0  6353.21            0            0            0            1   \n",
       "1  6764.61            0            0            0            1   \n",
       "2  7179.27            0            0            0            1   \n",
       "3  7390.27            0            0            0            1   \n",
       "4  7513.00            0            0            0            1   \n",
       "\n",
       "   Transmission_Std  Age_25  Age_30  Age_35  Age_40  ...  \\\n",
       "0                 0       0       0       0       0  ...   \n",
       "1                 0       0       0       0       0  ...   \n",
       "2                 0       0       0       0       0  ...   \n",
       "3                 0       0       0       0       0  ...   \n",
       "4                 0       0       0       0       0  ...   \n",
       "\n",
       "   Insurance_company_AIG  Insurance_company_ANA  Insurance_company_AXA  \\\n",
       "0                      0                      1                      0   \n",
       "1                      0                      0                      0   \n",
       "2                      0                      0                      0   \n",
       "3                      0                      0                      0   \n",
       "4                      0                      0                      1   \n",
       "\n",
       "   Insurance_company_GNP  Insurance_company_HDI  Insurance_company_Inbursa  \\\n",
       "0                      0                      0                          0   \n",
       "1                      0                      0                          0   \n",
       "2                      0                      0                          0   \n",
       "3                      0                      0                          0   \n",
       "4                      0                      0                          0   \n",
       "\n",
       "   Insurance_company_Mapfre  Insurance_company_Qualitas  \\\n",
       "0                         0                           0   \n",
       "1                         0                           1   \n",
       "2                         0                           0   \n",
       "3                         0                           0   \n",
       "4                         0                           0   \n",
       "\n",
       "   Insurance_company_Seguros Atlas  Insurance_company_Zurich  \n",
       "0                                0                         0  \n",
       "1                                0                         0  \n",
       "2                                0                         0  \n",
       "3                                1                         0  \n",
       "4                                0                         0  \n",
       "\n",
       "[5 rows x 50 columns]"
      ]
     },
     "execution_count": 10,
     "metadata": {},
     "output_type": "execute_result"
    }
   ],
   "source": [
    "df = pd.get_dummies(df, columns=['Model', 'Transmission', 'Age', 'Brand', 'Version', 'Year', 'Sex', 'Policy', 'Insurance_company'], drop_first=True)\n",
    "df.head()"
   ]
  },
  {
   "cell_type": "code",
   "execution_count": 11,
   "id": "8b393f43-e611-4672-94d6-8e366f899b1e",
   "metadata": {},
   "outputs": [
    {
     "name": "stdout",
     "output_type": "stream",
     "text": [
      "<class 'pandas.core.frame.DataFrame'>\n",
      "RangeIndex: 35952 entries, 0 to 35951\n",
      "Data columns (total 50 columns):\n",
      " #   Column                           Non-Null Count  Dtype  \n",
      "---  ------                           --------------  -----  \n",
      " 0   Price                            35952 non-null  float64\n",
      " 1   Model_JETTA                      35952 non-null  uint8  \n",
      " 2   Model_MARCH                      35952 non-null  uint8  \n",
      " 3   Model_VENTO                      35952 non-null  uint8  \n",
      " 4   Model_VERSA                      35952 non-null  uint8  \n",
      " 5   Transmission_Std                 35952 non-null  uint8  \n",
      " 6   Age_25                           35952 non-null  uint8  \n",
      " 7   Age_30                           35952 non-null  uint8  \n",
      " 8   Age_35                           35952 non-null  uint8  \n",
      " 9   Age_40                           35952 non-null  uint8  \n",
      " 10  Age_45                           35952 non-null  uint8  \n",
      " 11  Age_50                           35952 non-null  uint8  \n",
      " 12  Brand_Nissan                     35952 non-null  uint8  \n",
      " 13  Brand_Volkswagen                 35952 non-null  uint8  \n",
      " 14  Version_ACTIVE                   35952 non-null  uint8  \n",
      " 15  Version_ADVANCE                  35952 non-null  uint8  \n",
      " 16  Version_C                        35952 non-null  uint8  \n",
      " 17  Version_CLASICO                  35952 non-null  uint8  \n",
      " 18  Version_COMFORTLINE              35952 non-null  uint8  \n",
      " 19  Version_COMFORTLINE              35952 non-null  uint8  \n",
      " 20  Version_E                        35952 non-null  uint8  \n",
      " 21  Version_EXCLUSIVE                35952 non-null  uint8  \n",
      " 22  Version_HIGHLINE                 35952 non-null  uint8  \n",
      " 23  Version_LS                       35952 non-null  uint8  \n",
      " 24  Version_LT                       35952 non-null  uint8  \n",
      " 25  Version_LTZ                      35952 non-null  uint8  \n",
      " 26  Version_MK                       35952 non-null  uint8  \n",
      " 27  Version_SENSE                    35952 non-null  uint8  \n",
      " 28  Version_SR                       35952 non-null  uint8  \n",
      " 29  Version_STARLINE                 35952 non-null  uint8  \n",
      " 30  Version_STARTLINE                35952 non-null  uint8  \n",
      " 31  Version_STYLE                    35952 non-null  uint8  \n",
      " 32  Year_2013                        35952 non-null  uint8  \n",
      " 33  Year_2014                        35952 non-null  uint8  \n",
      " 34  Year_2015                        35952 non-null  uint8  \n",
      " 35  Year_2016                        35952 non-null  uint8  \n",
      " 36  Year_2017                        35952 non-null  uint8  \n",
      " 37  Sex_M                            35952 non-null  uint8  \n",
      " 38  Policy_Limitada                  35952 non-null  uint8  \n",
      " 39  Policy_RC                        35952 non-null  uint8  \n",
      " 40  Insurance_company_AIG            35952 non-null  uint8  \n",
      " 41  Insurance_company_ANA            35952 non-null  uint8  \n",
      " 42  Insurance_company_AXA            35952 non-null  uint8  \n",
      " 43  Insurance_company_GNP            35952 non-null  uint8  \n",
      " 44  Insurance_company_HDI            35952 non-null  uint8  \n",
      " 45  Insurance_company_Inbursa        35952 non-null  uint8  \n",
      " 46  Insurance_company_Mapfre         35952 non-null  uint8  \n",
      " 47  Insurance_company_Qualitas       35952 non-null  uint8  \n",
      " 48  Insurance_company_Seguros Atlas  35952 non-null  uint8  \n",
      " 49  Insurance_company_Zurich         35952 non-null  uint8  \n",
      "dtypes: float64(1), uint8(49)\n",
      "memory usage: 2.0 MB\n"
     ]
    }
   ],
   "source": [
    "df.info()"
   ]
  },
  {
   "cell_type": "markdown",
   "id": "808fc9da-f1c6-4684-bca1-2c8f9f41e748",
   "metadata": {},
   "source": [
    "# Decision Tree Regression"
   ]
  },
  {
   "cell_type": "markdown",
   "id": "413752ba-1e49-4a8a-bd49-c34e96711e14",
   "metadata": {},
   "source": [
    "#### Importing Decision Tree Regression module"
   ]
  },
  {
   "cell_type": "code",
   "execution_count": 12,
   "id": "43559f3a-b78c-4965-8048-9e9c7c8453ee",
   "metadata": {},
   "outputs": [],
   "source": [
    "from sklearn.tree import DecisionTreeRegressor\n",
    "from sklearn.tree import export_graphviz \n",
    "from sklearn.model_selection import train_test_split\n",
    "from sklearn.preprocessing import StandardScaler\n",
    "from sklearn.metrics import accuracy_score\n",
    "from sklearn.model_selection import cross_val_score"
   ]
  },
  {
   "cell_type": "markdown",
   "id": "8b70a7ba-666e-4df2-b9e4-b5b211d0bb28",
   "metadata": {},
   "source": [
    "#### Creating X and y variables"
   ]
  },
  {
   "cell_type": "code",
   "execution_count": 13,
   "id": "f4660005-6185-4b0c-891b-150709d2650f",
   "metadata": {},
   "outputs": [],
   "source": [
    "X = df.iloc[:, 1:].values\n",
    "y = df.iloc[:, 0].values"
   ]
  },
  {
   "cell_type": "markdown",
   "id": "a594150c-c1d5-4b32-8284-5919019dfaab",
   "metadata": {},
   "source": [
    "#### Splitting dataset"
   ]
  },
  {
   "cell_type": "code",
   "execution_count": 14,
   "id": "7e580a84-dee1-4629-bcc7-d816c4e60065",
   "metadata": {},
   "outputs": [],
   "source": [
    "X_train, X_test, y_train, y_test = train_test_split(X, y, test_size=0.2, random_state = 0)"
   ]
  },
  {
   "cell_type": "markdown",
   "id": "14d2e81c-5861-44fb-8f01-ba02d34e51ea",
   "metadata": {},
   "source": [
    "#### Feature scaling"
   ]
  },
  {
   "cell_type": "code",
   "execution_count": 15,
   "id": "a9e1bee6-cd9c-4b4c-a415-60ea952a74c1",
   "metadata": {},
   "outputs": [],
   "source": [
    "X_sc = StandardScaler()\n",
    "X_train = X_sc.fit_transform(X_train)"
   ]
  },
  {
   "cell_type": "markdown",
   "id": "dc8ac241-d887-438c-9d1d-e617a9e0fbf7",
   "metadata": {},
   "source": [
    "#### Training the dataset"
   ]
  },
  {
   "cell_type": "code",
   "execution_count": 16,
   "id": "534d1910-3a27-42d9-b6a8-585c5222cec2",
   "metadata": {},
   "outputs": [
    {
     "data": {
      "text/plain": [
       "DecisionTreeRegressor(random_state=0)"
      ]
     },
     "execution_count": 16,
     "metadata": {},
     "output_type": "execute_result"
    }
   ],
   "source": [
    "regressor = DecisionTreeRegressor(random_state = 0)\n",
    "regressor.fit(X_train, y_train)"
   ]
  },
  {
   "cell_type": "markdown",
   "id": "df92c59a-797f-4279-81b8-edcbfd8a1609",
   "metadata": {},
   "source": [
    "#### Accuracy"
   ]
  },
  {
   "cell_type": "code",
   "execution_count": 17,
   "id": "839566c8-c944-4c00-9db6-3ef557deef9e",
   "metadata": {},
   "outputs": [
    {
     "data": {
      "text/plain": [
       "array([0.87228591, 0.78412967, 0.7943663 , 0.8847869 , 0.81345142,\n",
       "       0.78035883, 0.84913777, 0.81357219, 0.86525554, 0.89928892])"
      ]
     },
     "execution_count": 17,
     "metadata": {},
     "output_type": "execute_result"
    }
   ],
   "source": [
    "cvs = cross_val_score(regressor, X_test, y_test, cv=10)\n",
    "cvs"
   ]
  },
  {
   "cell_type": "markdown",
   "id": "76f4153a-68b1-46f0-b63b-a4f474a58090",
   "metadata": {},
   "source": [
    "#### Cross Validation mean"
   ]
  },
  {
   "cell_type": "code",
   "execution_count": 18,
   "id": "88cfb0e6-5dc9-42ba-973a-686aff4f16a9",
   "metadata": {},
   "outputs": [
    {
     "data": {
      "text/plain": [
       "0.8356633459330272"
      ]
     },
     "execution_count": 18,
     "metadata": {},
     "output_type": "execute_result"
    }
   ],
   "source": [
    "cvs.mean()"
   ]
  },
  {
   "cell_type": "markdown",
   "id": "d2bc7d50-8e22-45b3-9ca5-c5347ca63557",
   "metadata": {},
   "source": [
    "#### Cross Validation standard deviation"
   ]
  },
  {
   "cell_type": "code",
   "execution_count": 19,
   "id": "aece13da-061e-455d-a504-7be0bacea477",
   "metadata": {},
   "outputs": [
    {
     "data": {
      "text/plain": [
       "0.04154630004266215"
      ]
     },
     "execution_count": 19,
     "metadata": {},
     "output_type": "execute_result"
    }
   ],
   "source": [
    "cvs.std()"
   ]
  }
 ],
 "metadata": {
  "kernelspec": {
   "display_name": "Python 3 (ipykernel)",
   "language": "python",
   "name": "python3"
  },
  "language_info": {
   "codemirror_mode": {
    "name": "ipython",
    "version": 3
   },
   "file_extension": ".py",
   "mimetype": "text/x-python",
   "name": "python",
   "nbconvert_exporter": "python",
   "pygments_lexer": "ipython3",
   "version": "3.9.12"
  }
 },
 "nbformat": 4,
 "nbformat_minor": 5
}
